{
 "cells": [
  {
   "cell_type": "code",
   "execution_count": 1,
   "metadata": {
    "collapsed": true
   },
   "outputs": [],
   "source": [
    "import pandas as pd\n",
    "from joblib import Parallel, delayed\n",
    "from api.preprocessing import *\n",
    "from api.setting import Settings"
   ]
  },
  {
   "cell_type": "code",
   "execution_count": 2,
   "outputs": [],
   "source": [
    "df = pd.read_csv(\"../data/onlineHarassmentDataset.csv\",sep='\\t', engine='python')"
   ],
   "metadata": {
    "collapsed": false,
    "pycharm": {
     "name": "#%%\n"
    }
   }
  },
  {
   "cell_type": "code",
   "execution_count": 3,
   "outputs": [
    {
     "data": {
      "text/plain": "(20360, 13)"
     },
     "execution_count": 3,
     "metadata": {},
     "output_type": "execute_result"
    }
   ],
   "source": [
    "df.shape"
   ],
   "metadata": {
    "collapsed": false,
    "pycharm": {
     "name": "#%%\n"
    }
   }
  },
  {
   "cell_type": "code",
   "execution_count": 4,
   "outputs": [
    {
     "name": "stdout",
     "output_type": "stream",
     "text": [
      "<class 'pandas.core.frame.DataFrame'>\n",
      "RangeIndex: 20360 entries, 0 to 20359\n",
      "Data columns (total 13 columns):\n",
      " #   Column       Non-Null Count  Dtype  \n",
      "---  ------       --------------  -----  \n",
      " 0   ID           20360 non-null  int64  \n",
      " 1   Code         20360 non-null  object \n",
      " 2   Tweet        20360 non-null  object \n",
      " 3   Unnamed: 3   0 non-null      float64\n",
      " 4   Unnamed: 4   0 non-null      float64\n",
      " 5   Unnamed: 5   0 non-null      float64\n",
      " 6   Unnamed: 6   0 non-null      float64\n",
      " 7   Unnamed: 7   0 non-null      float64\n",
      " 8   Unnamed: 8   0 non-null      float64\n",
      " 9   Unnamed: 9   0 non-null      float64\n",
      " 10  Unnamed: 10  0 non-null      float64\n",
      " 11  Unnamed: 11  0 non-null      float64\n",
      " 12  Unnamed: 12  0 non-null      float64\n",
      "dtypes: float64(10), int64(1), object(2)\n",
      "memory usage: 2.0+ MB\n"
     ]
    }
   ],
   "source": [
    "df.info(null_counts=True)"
   ],
   "metadata": {
    "collapsed": false,
    "pycharm": {
     "name": "#%%\n"
    }
   }
  },
  {
   "cell_type": "code",
   "execution_count": 5,
   "outputs": [
    {
     "data": {
      "text/plain": "(20360, 2)"
     },
     "execution_count": 5,
     "metadata": {},
     "output_type": "execute_result"
    }
   ],
   "source": [
    "to_drop = [0] + (list(range(3, 13)))\n",
    "df.drop(df.columns[to_drop], axis=1, inplace=True)\n",
    "df.shape"
   ],
   "metadata": {
    "collapsed": false,
    "pycharm": {
     "name": "#%%\n"
    }
   }
  },
  {
   "cell_type": "code",
   "execution_count": 6,
   "outputs": [
    {
     "data": {
      "text/plain": "  Code                                              Tweet\n0    H  @Grumpy_P_Sloth @deanesmay feminists argue for...\n1    H  1948Army of England helped the Jews to occupy ...\n2    H  Dutch Leader Says Europe to collapse In 6 Week...\n3    H  RT @__DeLay: The next day the Romans and the J...\n4    H  RT @Bakersman_Joe: When Hitler Invited The Jew...",
      "text/html": "<div>\n<style scoped>\n    .dataframe tbody tr th:only-of-type {\n        vertical-align: middle;\n    }\n\n    .dataframe tbody tr th {\n        vertical-align: top;\n    }\n\n    .dataframe thead th {\n        text-align: right;\n    }\n</style>\n<table border=\"1\" class=\"dataframe\">\n  <thead>\n    <tr style=\"text-align: right;\">\n      <th></th>\n      <th>Code</th>\n      <th>Tweet</th>\n    </tr>\n  </thead>\n  <tbody>\n    <tr>\n      <th>0</th>\n      <td>H</td>\n      <td>@Grumpy_P_Sloth @deanesmay feminists argue for...</td>\n    </tr>\n    <tr>\n      <th>1</th>\n      <td>H</td>\n      <td>1948Army of England helped the Jews to occupy ...</td>\n    </tr>\n    <tr>\n      <th>2</th>\n      <td>H</td>\n      <td>Dutch Leader Says Europe to collapse In 6 Week...</td>\n    </tr>\n    <tr>\n      <th>3</th>\n      <td>H</td>\n      <td>RT @__DeLay: The next day the Romans and the J...</td>\n    </tr>\n    <tr>\n      <th>4</th>\n      <td>H</td>\n      <td>RT @Bakersman_Joe: When Hitler Invited The Jew...</td>\n    </tr>\n  </tbody>\n</table>\n</div>"
     },
     "execution_count": 6,
     "metadata": {},
     "output_type": "execute_result"
    }
   ],
   "source": [
    "df.head()"
   ],
   "metadata": {
    "collapsed": false,
    "pycharm": {
     "name": "#%%\n"
    }
   }
  },
  {
   "cell_type": "code",
   "execution_count": 7,
   "outputs": [],
   "source": [
    "df['Code'] = df['Code'].apply(lambda x: str(x))\n",
    "df['Tweet'] = df['Tweet'].apply(lambda x: str(x))"
   ],
   "metadata": {
    "collapsed": false,
    "pycharm": {
     "name": "#%%\n"
    }
   }
  },
  {
   "cell_type": "code",
   "execution_count": 8,
   "outputs": [
    {
     "name": "stdout",
     "output_type": "stream",
     "text": [
      "<class 'pandas.core.frame.DataFrame'>\n",
      "RangeIndex: 20360 entries, 0 to 20359\n",
      "Data columns (total 2 columns):\n",
      " #   Column  Non-Null Count  Dtype \n",
      "---  ------  --------------  ----- \n",
      " 0   Code    20360 non-null  object\n",
      " 1   Tweet   20360 non-null  object\n",
      "dtypes: object(2)\n",
      "memory usage: 318.2+ KB\n"
     ]
    }
   ],
   "source": [
    "df.info(null_counts=True)"
   ],
   "metadata": {
    "collapsed": false,
    "pycharm": {
     "name": "#%%\n"
    }
   }
  },
  {
   "cell_type": "code",
   "execution_count": 9,
   "outputs": [],
   "source": [
    "df.to_csv(\"../data/onlineHarassment.csv\",index = False, header=['annotation','text'])\n"
   ],
   "metadata": {
    "collapsed": false,
    "pycharm": {
     "name": "#%%\n"
    }
   }
  },
  {
   "cell_type": "code",
   "execution_count": 2,
   "outputs": [],
   "source": [
    "df = pd.read_csv(\"../data/onlineHarassment.csv\")"
   ],
   "metadata": {
    "collapsed": false,
    "pycharm": {
     "name": "#%%\n"
    }
   }
  },
  {
   "cell_type": "code",
   "execution_count": 3,
   "outputs": [
    {
     "data": {
      "text/plain": "  annotation                                               text\n0          H  @Grumpy_P_Sloth @deanesmay feminists argue for...\n1          H  1948Army of England helped the Jews to occupy ...\n2          H  Dutch Leader Says Europe to collapse In 6 Week...\n3          H  RT @__DeLay: The next day the Romans and the J...\n4          H  RT @Bakersman_Joe: When Hitler Invited The Jew...",
      "text/html": "<div>\n<style scoped>\n    .dataframe tbody tr th:only-of-type {\n        vertical-align: middle;\n    }\n\n    .dataframe tbody tr th {\n        vertical-align: top;\n    }\n\n    .dataframe thead th {\n        text-align: right;\n    }\n</style>\n<table border=\"1\" class=\"dataframe\">\n  <thead>\n    <tr style=\"text-align: right;\">\n      <th></th>\n      <th>annotation</th>\n      <th>text</th>\n    </tr>\n  </thead>\n  <tbody>\n    <tr>\n      <th>0</th>\n      <td>H</td>\n      <td>@Grumpy_P_Sloth @deanesmay feminists argue for...</td>\n    </tr>\n    <tr>\n      <th>1</th>\n      <td>H</td>\n      <td>1948Army of England helped the Jews to occupy ...</td>\n    </tr>\n    <tr>\n      <th>2</th>\n      <td>H</td>\n      <td>Dutch Leader Says Europe to collapse In 6 Week...</td>\n    </tr>\n    <tr>\n      <th>3</th>\n      <td>H</td>\n      <td>RT @__DeLay: The next day the Romans and the J...</td>\n    </tr>\n    <tr>\n      <th>4</th>\n      <td>H</td>\n      <td>RT @Bakersman_Joe: When Hitler Invited The Jew...</td>\n    </tr>\n  </tbody>\n</table>\n</div>"
     },
     "execution_count": 3,
     "metadata": {},
     "output_type": "execute_result"
    }
   ],
   "source": [
    "df.head()"
   ],
   "metadata": {
    "collapsed": false,
    "pycharm": {
     "name": "#%%\n"
    }
   }
  },
  {
   "cell_type": "code",
   "execution_count": 4,
   "outputs": [
    {
     "data": {
      "text/plain": "(20360, 2)"
     },
     "execution_count": 4,
     "metadata": {},
     "output_type": "execute_result"
    }
   ],
   "source": [
    "df.shape"
   ],
   "metadata": {
    "collapsed": false,
    "pycharm": {
     "name": "#%%\n"
    }
   }
  },
  {
   "cell_type": "code",
   "execution_count": 6,
   "outputs": [
    {
     "data": {
      "text/plain": "N    15075\nH     5285\nName: annotation, dtype: int64"
     },
     "execution_count": 6,
     "metadata": {},
     "output_type": "execute_result"
    }
   ],
   "source": [
    "df['annotation'].value_counts()"
   ],
   "metadata": {
    "collapsed": false,
    "pycharm": {
     "name": "#%%\n"
    }
   }
  },
  {
   "cell_type": "code",
   "execution_count": null,
   "outputs": [],
   "source": [],
   "metadata": {
    "collapsed": false,
    "pycharm": {
     "name": "#%%\n"
    }
   }
  }
 ],
 "metadata": {
  "kernelspec": {
   "display_name": "Python 3",
   "language": "python",
   "name": "python3"
  },
  "language_info": {
   "codemirror_mode": {
    "name": "ipython",
    "version": 2
   },
   "file_extension": ".py",
   "mimetype": "text/x-python",
   "name": "python",
   "nbconvert_exporter": "python",
   "pygments_lexer": "ipython2",
   "version": "2.7.6"
  }
 },
 "nbformat": 4,
 "nbformat_minor": 0
}