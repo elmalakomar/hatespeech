{
 "cells": [
  {
   "cell_type": "code",
   "execution_count": 2,
   "metadata": {
    "collapsed": true,
    "pycharm": {
     "name": "#%% IMPORT LIBRARIES\n"
    }
   },
   "outputs": [],
   "source": [
    "import pandas as pd"
   ]
  },
  {
   "cell_type": "code",
   "execution_count": 3,
   "outputs": [
    {
     "data": {
      "text/plain": "              TweetID annotation\n0  572342978255048705     racism\n1  572341498827522049     racism\n2  572340476503724032     racism\n3  572334712804384768     racism\n4  572332655397629952     racism",
      "text/html": "<div>\n<style scoped>\n    .dataframe tbody tr th:only-of-type {\n        vertical-align: middle;\n    }\n\n    .dataframe tbody tr th {\n        vertical-align: top;\n    }\n\n    .dataframe thead th {\n        text-align: right;\n    }\n</style>\n<table border=\"1\" class=\"dataframe\">\n  <thead>\n    <tr style=\"text-align: right;\">\n      <th></th>\n      <th>TweetID</th>\n      <th>annotation</th>\n    </tr>\n  </thead>\n  <tbody>\n    <tr>\n      <th>0</th>\n      <td>572342978255048705</td>\n      <td>racism</td>\n    </tr>\n    <tr>\n      <th>1</th>\n      <td>572341498827522049</td>\n      <td>racism</td>\n    </tr>\n    <tr>\n      <th>2</th>\n      <td>572340476503724032</td>\n      <td>racism</td>\n    </tr>\n    <tr>\n      <th>3</th>\n      <td>572334712804384768</td>\n      <td>racism</td>\n    </tr>\n    <tr>\n      <th>4</th>\n      <td>572332655397629952</td>\n      <td>racism</td>\n    </tr>\n  </tbody>\n</table>\n</div>"
     },
     "execution_count": 3,
     "metadata": {},
     "output_type": "execute_result"
    }
   ],
   "source": [
    "srw = pd.read_csv(\"../data/NAACL_SRW_2016.csv\",names=[\"TweetID\",\"annotation\"])\n",
    "srw.head()"
   ],
   "metadata": {
    "collapsed": false,
    "pycharm": {
     "name": "#%% READ DATASETS\n"
    }
   }
  },
  {
   "cell_type": "code",
   "execution_count": 5,
   "outputs": [
    {
     "data": {
      "text/plain": "   Unnamed: 0             TweetID annotation\n0           0  597576902212063232    neither\n1           1  565586175864610817    neither\n2           2  563881580209246209    neither\n3           3  595380689534656512    neither\n4           4  563757610327748608    neither",
      "text/html": "<div>\n<style scoped>\n    .dataframe tbody tr th:only-of-type {\n        vertical-align: middle;\n    }\n\n    .dataframe tbody tr th {\n        vertical-align: top;\n    }\n\n    .dataframe thead th {\n        text-align: right;\n    }\n</style>\n<table border=\"1\" class=\"dataframe\">\n  <thead>\n    <tr style=\"text-align: right;\">\n      <th></th>\n      <th>Unnamed: 0</th>\n      <th>TweetID</th>\n      <th>annotation</th>\n    </tr>\n  </thead>\n  <tbody>\n    <tr>\n      <th>0</th>\n      <td>0</td>\n      <td>597576902212063232</td>\n      <td>neither</td>\n    </tr>\n    <tr>\n      <th>1</th>\n      <td>1</td>\n      <td>565586175864610817</td>\n      <td>neither</td>\n    </tr>\n    <tr>\n      <th>2</th>\n      <td>2</td>\n      <td>563881580209246209</td>\n      <td>neither</td>\n    </tr>\n    <tr>\n      <th>3</th>\n      <td>3</td>\n      <td>595380689534656512</td>\n      <td>neither</td>\n    </tr>\n    <tr>\n      <th>4</th>\n      <td>4</td>\n      <td>563757610327748608</td>\n      <td>neither</td>\n    </tr>\n  </tbody>\n</table>\n</div>"
     },
     "execution_count": 5,
     "metadata": {},
     "output_type": "execute_result"
    }
   ],
   "source": [
    "css = pd.read_csv(\"../data/new_css.csv\")\n",
    "css.head()"
   ],
   "metadata": {
    "collapsed": false,
    "pycharm": {
     "name": "#%%\n"
    }
   }
  },
  {
   "cell_type": "code",
   "execution_count": 3,
   "outputs": [
    {
     "ename": "NameError",
     "evalue": "name 'css' is not defined",
     "output_type": "error",
     "traceback": [
      "\u001B[0;31m---------------------------------------------------------------------------\u001B[0m",
      "\u001B[0;31mNameError\u001B[0m                                 Traceback (most recent call last)",
      "\u001B[0;32m<ipython-input-3-c88f0fa5fd02>\u001B[0m in \u001B[0;36m<module>\u001B[0;34m\u001B[0m\n\u001B[0;32m----> 1\u001B[0;31m \u001B[0mresult\u001B[0m \u001B[0;34m=\u001B[0m \u001B[0mset\u001B[0m\u001B[0;34m(\u001B[0m\u001B[0mcss\u001B[0m\u001B[0;34m[\u001B[0m\u001B[0;34m'TweetID'\u001B[0m\u001B[0;34m]\u001B[0m\u001B[0;34m)\u001B[0m\u001B[0;34m.\u001B[0m\u001B[0mintersection\u001B[0m\u001B[0;34m(\u001B[0m\u001B[0mset\u001B[0m\u001B[0;34m(\u001B[0m\u001B[0msrw\u001B[0m\u001B[0;34m[\u001B[0m\u001B[0;34m'TweetID'\u001B[0m\u001B[0;34m]\u001B[0m\u001B[0;34m)\u001B[0m\u001B[0;34m)\u001B[0m\u001B[0;34m\u001B[0m\u001B[0;34m\u001B[0m\u001B[0m\n\u001B[0m\u001B[1;32m      2\u001B[0m \u001B[0mlen\u001B[0m\u001B[0;34m(\u001B[0m\u001B[0mresult\u001B[0m\u001B[0;34m)\u001B[0m\u001B[0;34m\u001B[0m\u001B[0;34m\u001B[0m\u001B[0m\n\u001B[1;32m      3\u001B[0m \u001B[0;34m\u001B[0m\u001B[0m\n",
      "\u001B[0;31mNameError\u001B[0m: name 'css' is not defined"
     ]
    }
   ],
   "source": [
    "result = set(css['TweetID']).intersection(set(srw['TweetID']))\n",
    "len(result)"
   ],
   "metadata": {
    "collapsed": false,
    "pycharm": {
     "name": "#%% THERE IS INTERSECTION BETWEEN TWEETS IDs?\n"
    }
   }
  },
  {
   "cell_type": "markdown",
   "source": [
    "Yes there's intersection between the two datasets.\n",
    "Take the set union, and build the dataset of the two!"
   ],
   "metadata": {
    "collapsed": false
   }
  },
  {
   "cell_type": "code",
   "execution_count": 7,
   "outputs": [
    {
     "data": {
      "text/plain": "19639"
     },
     "execution_count": 7,
     "metadata": {},
     "output_type": "execute_result"
    }
   ],
   "source": [
    "result = set(css['TweetID']).union(set(srw['TweetID']))\n",
    "len(result)"
   ],
   "metadata": {
    "collapsed": false,
    "pycharm": {
     "name": "#%%\n"
    }
   }
  },
  {
   "cell_type": "code",
   "execution_count": 8,
   "outputs": [
    {
     "data": {
      "text/plain": "6909"
     },
     "execution_count": 8,
     "metadata": {},
     "output_type": "execute_result"
    }
   ],
   "source": [
    "len(css['TweetID'])"
   ],
   "metadata": {
    "collapsed": false,
    "pycharm": {
     "name": "#%%\n"
    }
   }
  },
  {
   "cell_type": "code",
   "execution_count": 9,
   "outputs": [
    {
     "data": {
      "text/plain": "16907"
     },
     "execution_count": 9,
     "metadata": {},
     "output_type": "execute_result"
    }
   ],
   "source": [
    "len(srw['TweetID'])"
   ],
   "metadata": {
    "collapsed": false,
    "pycharm": {
     "name": "#%%\n"
    }
   }
  },
  {
   "cell_type": "code",
   "execution_count": 10,
   "outputs": [
    {
     "data": {
      "text/plain": "              TweetID annotation\n0  572342978255048705     racism\n1  572341498827522049     racism\n2  572340476503724032     racism\n3  572334712804384768     racism\n4  572332655397629952     racism",
      "text/html": "<div>\n<style scoped>\n    .dataframe tbody tr th:only-of-type {\n        vertical-align: middle;\n    }\n\n    .dataframe tbody tr th {\n        vertical-align: top;\n    }\n\n    .dataframe thead th {\n        text-align: right;\n    }\n</style>\n<table border=\"1\" class=\"dataframe\">\n  <thead>\n    <tr style=\"text-align: right;\">\n      <th></th>\n      <th>TweetID</th>\n      <th>annotation</th>\n    </tr>\n  </thead>\n  <tbody>\n    <tr>\n      <th>0</th>\n      <td>572342978255048705</td>\n      <td>racism</td>\n    </tr>\n    <tr>\n      <th>1</th>\n      <td>572341498827522049</td>\n      <td>racism</td>\n    </tr>\n    <tr>\n      <th>2</th>\n      <td>572340476503724032</td>\n      <td>racism</td>\n    </tr>\n    <tr>\n      <th>3</th>\n      <td>572334712804384768</td>\n      <td>racism</td>\n    </tr>\n    <tr>\n      <th>4</th>\n      <td>572332655397629952</td>\n      <td>racism</td>\n    </tr>\n  </tbody>\n</table>\n</div>"
     },
     "execution_count": 10,
     "metadata": {},
     "output_type": "execute_result"
    }
   ],
   "source": [
    "srw.head()"
   ],
   "metadata": {
    "collapsed": false,
    "pycharm": {
     "name": "#%%\n"
    }
   }
  },
  {
   "cell_type": "code",
   "execution_count": null,
   "outputs": [],
   "source": [
    "\n"
   ],
   "metadata": {
    "collapsed": false,
    "pycharm": {
     "name": "#%%\n"
    }
   }
  }
 ],
 "metadata": {
  "kernelspec": {
   "display_name": "Python 3",
   "language": "python",
   "name": "python3"
  },
  "language_info": {
   "codemirror_mode": {
    "name": "ipython",
    "version": 2
   },
   "file_extension": ".py",
   "mimetype": "text/x-python",
   "name": "python",
   "nbconvert_exporter": "python",
   "pygments_lexer": "ipython2",
   "version": "2.7.6"
  }
 },
 "nbformat": 4,
 "nbformat_minor": 0
}