{
 "cells": [
  {
   "cell_type": "code",
   "execution_count": 1,
   "metadata": {
    "collapsed": true
   },
   "outputs": [],
   "source": [
    "from api.classification import run\n",
    "from api.setting import Settings\n",
    "from api.functions import *\n",
    "from api.preprocessing import *\n",
    "from joblib import Parallel, delayed\n",
    "\n",
    "from sklearn.feature_extraction.text import CountVectorizer\n",
    "from sklearn.model_selection import KFold, StratifiedKFold\n",
    "from sklearn.linear_model import LogisticRegression\n",
    "from sklearn import metrics\n",
    "\n",
    "from pprint import pprint"
   ]
  },
  {
   "cell_type": "code",
   "execution_count": 2,
   "outputs": [
    {
     "name": "stdout",
     "output_type": "stream",
     "text": [
      "{'AUTOCORRECT': False,\n",
      " 'BALANCE_DATA': True,\n",
      " 'CHECK_CONTRACTION': True,\n",
      " 'CLEAN_TEXT': False,\n",
      " 'CSV_PATH': 'data/onlineHarassmentDataset.csv',\n",
      " 'EMOJI_TO_TEXT': True,\n",
      " 'GENERATOR': 'python',\n",
      " 'IGNORE_COLUMNS': ['TweetID'],\n",
      " 'LOWER_TEXT': True,\n",
      " 'MOST_FREQUENT_WORDS': False,\n",
      " 'OVERSAMPLING': False,\n",
      " 'RANDOM_SEED': 16,\n",
      " 'REMOVE_LINKS': True,\n",
      " 'REMOVE_NUMBERS': True,\n",
      " 'REMOVE_PUNCTUATION': True,\n",
      " 'REMOVE_STOPWORDS': True,\n",
      " 'REMOVE_USER_TAGS': True,\n",
      " 'SEPARATOR': ',',\n",
      " 'STEMMING': True,\n",
      " 'UNDERSAMPLING': False,\n",
      " 'WORDCLOUD': False,\n",
      " 'X_LABEL': 'text',\n",
      " 'Y_LABEL': 'annotation'}\n"
     ]
    }
   ],
   "source": [
    "settings = Settings()\n",
    "settings.CSV_PATH = 'data/onlineHarassmentDataset.csv'\n",
    "pprint(settings.__dict__)"
   ],
   "metadata": {
    "collapsed": false,
    "pycharm": {
     "name": "#%%\n"
    }
   }
  },
  {
   "cell_type": "code",
   "execution_count": 3,
   "outputs": [
    {
     "data": {
      "text/plain": "(20360, 13)"
     },
     "execution_count": 3,
     "metadata": {},
     "output_type": "execute_result"
    }
   ],
   "source": [
    "data = pd.read_csv(settings.CSV_PATH,\n",
    "                   sep='\\t',\n",
    "                   engine='python',\n",
    "                   error_bad_lines=False)\n",
    "data.shape"
   ],
   "metadata": {
    "collapsed": false,
    "pycharm": {
     "name": "#%%\n"
    }
   }
  },
  {
   "cell_type": "code",
   "execution_count": null,
   "outputs": [],
   "source": [
    "data.head()"
   ],
   "metadata": {
    "collapsed": false,
    "pycharm": {
     "name": "#%%\n"
    }
   }
  },
  {
   "cell_type": "code",
   "execution_count": null,
   "outputs": [],
   "source": [
    "to_drop = [0] + (list(range(3,13)))\n",
    "data.drop(data.columns[to_drop],axis = 1, inplace=True)\n",
    "data.head()\n",
    "data.sample(frac=1,random_state=settings.RANDOM_SEED)"
   ],
   "metadata": {
    "collapsed": false,
    "pycharm": {
     "name": "#%%\n"
    }
   }
  },
  {
   "cell_type": "code",
   "execution_count": null,
   "outputs": [],
   "source": [
    "X = data['Tweet']\n",
    "Y = data['Code']"
   ],
   "metadata": {
    "collapsed": false,
    "pycharm": {
     "name": "#%%\n"
    }
   }
  },
  {
   "cell_type": "code",
   "execution_count": null,
   "outputs": [],
   "source": [
    "Y = Y.map({'N': 0, 'H': 1})\n",
    "Y.value_counts()"
   ],
   "metadata": {
    "collapsed": false,
    "pycharm": {
     "name": "#%%\n"
    }
   }
  },
  {
   "cell_type": "code",
   "execution_count": null,
   "outputs": [],
   "source": [
    "X = pd.Series(Parallel(n_jobs=-1, verbose=5, backend=\"multiprocessing\")(delayed(clean_tweet)(settings,x) for x in X))"
   ],
   "metadata": {
    "collapsed": false,
    "pycharm": {
     "name": "#%%\n"
    }
   }
  },
  {
   "cell_type": "code",
   "execution_count": null,
   "outputs": [],
   "source": [
    "dic = get_frequent_words(X)\n",
    "visualize_frequent_words(dic,20)\n"
   ],
   "metadata": {
    "collapsed": false,
    "pycharm": {
     "name": "#%%\n"
    }
   }
  },
  {
   "cell_type": "code",
   "execution_count": null,
   "outputs": [],
   "source": [
    "vectorizer = CountVectorizer()\n",
    "X_fv = vectorizer.fit_transform(X)\n"
   ],
   "metadata": {
    "collapsed": false,
    "pycharm": {
     "name": "#%%\n"
    }
   }
  },
  {
   "cell_type": "code",
   "execution_count": null,
   "outputs": [],
   "source": [
    "skf = StratifiedKFold(n_splits=3, shuffle=True, random_state=settings.RANDOM_SEED)\n",
    "\n",
    "for train_index, test_index in skf.split(X_fv,Y):\n",
    "    Xtrain, Xtest = X_fv[train_index], X_fv[test_index]\n",
    "    Ytrain, Ytest = Y[train_index], Y[test_index]\n",
    "\n",
    "    # -- classification\n",
    "    print(Xtrain.shape, Xtest.shape)\n",
    "    print(Ytrain.shape, Ytest.shape)\n",
    "\n",
    "    model = LogisticRegression(solver='liblinear',max_iter=100, n_jobs=-1)\n",
    "    #model = BernoulliNB()\n",
    "    model.fit(Xtrain, Ytrain)\n",
    "    pred = model.predict(Xtest)\n",
    "    print(metrics.confusion_matrix(Ytest, pred))\n",
    "    print(metrics.classification_report(Ytest, pred, target_names=[\"none\", \"hate\"]))\n"
   ],
   "metadata": {
    "collapsed": false,
    "pycharm": {
     "name": "#%%\n"
    }
   }
  },
  {
   "cell_type": "code",
   "execution_count": null,
   "outputs": [],
   "source": [],
   "metadata": {
    "collapsed": false,
    "pycharm": {
     "name": "#%%\n"
    }
   }
  }
 ],
 "metadata": {
  "kernelspec": {
   "display_name": "Python 3",
   "language": "python",
   "name": "python3"
  },
  "language_info": {
   "codemirror_mode": {
    "name": "ipython",
    "version": 2
   },
   "file_extension": ".py",
   "mimetype": "text/x-python",
   "name": "python",
   "nbconvert_exporter": "python",
   "pygments_lexer": "ipython2",
   "version": "2.7.6"
  }
 },
 "nbformat": 4,
 "nbformat_minor": 0
}